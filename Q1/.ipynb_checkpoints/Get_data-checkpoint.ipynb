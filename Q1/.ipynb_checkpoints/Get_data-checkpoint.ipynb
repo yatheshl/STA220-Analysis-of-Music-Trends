{
 "cells": [
  {
   "cell_type": "code",
   "execution_count": 1,
   "metadata": {},
   "outputs": [],
   "source": [
    "import lyricsgenius\n",
    "import requests\n",
    "from bs4 import BeautifulSoup\n",
    "import pandas as pd\n",
    "import time"
   ]
  },
  {
   "cell_type": "code",
   "execution_count": 2,
   "metadata": {},
   "outputs": [],
   "source": [
    "with open(\"GeniusAPI.txt\", \"r\") as f:\n",
    "    File = f.read()\n",
    "\n",
    "Genius_token = File.split(\"\\n\")[2]\n",
    "Genius_token = Genius_token.split(\":\")[1]\n",
    "\n",
    "Genius_token = Genius_token.strip()"
   ]
  },
  {
   "cell_type": "code",
   "execution_count": 4,
   "metadata": {},
   "outputs": [],
   "source": [
    "song_titles = []\n",
    "song_artists = []\n",
    "for year in range(2013, 2023):\n",
    "\n",
    "    url = f\"https://www.billboard.com/charts/year-end/{year}/hot-rap-songs/\"\n",
    "\n",
    "    response = requests.get(url)\n",
    "    soup = BeautifulSoup(response.content, \"html.parser\")\n",
    "\n",
    "    \n",
    "    for song in soup.find_all(\"div\", class_=\"o-chart-results-list-row-container\"):\n",
    "        song_name = song.find_all(\"h3\", class_=\"c-title\")\n",
    "        song_titles.append(song_name[0].text.strip())\n",
    "        #print(song_name[0].text.strip(), end=\", \")\n",
    "        song_artist = song.find_all(\"span\", class_=\"c-label\")\n",
    "        song_artists.append(song_artist[1].text.strip())\n",
    "        #print(song_artist[1].text.strip())\n",
    "\n",
    "billboard_list_df = pd.DataFrame({\"title\": song_titles, \"artist\": song_artists})\n",
    "billboard_list_df.drop_duplicates(inplace=True)"
   ]
  },
  {
   "cell_type": "code",
   "execution_count": 5,
   "metadata": {},
   "outputs": [
    {
     "name": "stdout",
     "output_type": "stream",
     "text": [
      "Searching for \"Thrift Shop\" by Macklemore & Ryan Lewis Featuring Wanz...\n",
      "Done.\n",
      "Searching for \"Can't Hold Us\" by Macklemore & Ryan Lewis Featuring Ray Dalton...\n",
      "Done.\n",
      "Searching for \"Holy Grail\" by Jay Z Featuring Justin Timberlake...\n",
      "Done.\n",
      "Searching for \"Started From The Bottom\" by Drake...\n",
      "Searching for \"Feel This Moment\" by Pitbull Featuring Christina Aguilera...\n",
      "Done.\n",
      "Searching for \"F**kin Problems\" by A$AP Rocky Featuring Drake, 2 Chainz & Kendrick Lamar...\n",
      "Done.\n",
      "Searching for \"Love Me\" by Lil Wayne Featuring Drake & Future...\n",
      "Done.\n",
      "Searching for \"Power Trip\" by J. Cole Featuring Miguel...\n",
      "Done.\n",
      "Searching for \"Same Love\" by Macklemore & Ryan Lewis Featuring Mary Lambert...\n",
      "Done.\n",
      "Searching for \"Bad\" by Wale Featuring Tiara Thomas Or Rihanna...\n",
      "No results found for: 'Bad Wale Featuring Tiara Thomas Or Rihanna'\n",
      "Searching for \"Gangnam Style\" by PSY...\n"
     ]
    }
   ],
   "source": [
    "genius = lyricsgenius.Genius(Genius_token)\n",
    "for index, row in billboard_list_df.iterrows():\n",
    "    lyrics_df = billboard_list_df\n",
    "    try:\n",
    "        song = genius.search_song(row[\"title\"], row[\"artist\"])\n",
    "        lyrics_df.loc[index, \"lyrics\"] = song.lyrics\n",
    "    except:\n",
    "        lyrics_df.loc[index, \"lyrics\"] = None\n",
    "    #time.sleep(2)\n"
   ]
  },
  {
   "cell_type": "code",
   "execution_count": null,
   "metadata": {},
   "outputs": [],
   "source": [
    "lyrics_df.to_csv(\"lyrics.csv\", index=False)"
   ]
  }
 ],
 "metadata": {
  "kernelspec": {
   "display_name": "Python 3 (ipykernel)",
   "language": "python",
   "name": "python3"
  },
  "language_info": {
   "codemirror_mode": {
    "name": "ipython",
    "version": 3
   },
   "file_extension": ".py",
   "mimetype": "text/x-python",
   "name": "python",
   "nbconvert_exporter": "python",
   "pygments_lexer": "ipython3",
   "version": "3.8.10"
  },
  "vscode": {
   "interpreter": {
    "hash": "aee8b7b246df8f9039afb4144a1f6fd8d2ca17a180786b69acc140d282b71a49"
   }
  }
 },
 "nbformat": 4,
 "nbformat_minor": 2
}
